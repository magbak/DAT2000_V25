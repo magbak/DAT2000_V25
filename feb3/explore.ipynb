{
 "cells": [
  {
   "cell_type": "code",
   "execution_count": 9,
   "id": "133510df-225d-4bfb-92be-2ba3940cea36",
   "metadata": {},
   "outputs": [
    {
     "data": {
      "text/plain": [
       "polars.config.Config"
      ]
     },
     "execution_count": 9,
     "metadata": {},
     "output_type": "execute_result"
    }
   ],
   "source": [
    "from maplib import Mapping, explore\n",
    "import polars as pl\n",
    "pl.Config.set_fmt_str_lengths(200)"
   ]
  },
  {
   "cell_type": "code",
   "execution_count": 10,
   "id": "9bfcf318-d156-4777-88b8-dc67e4e1f580",
   "metadata": {},
   "outputs": [],
   "source": [
    "m = Mapping()"
   ]
  },
  {
   "cell_type": "code",
   "execution_count": 11,
   "id": "1bf37c87-a20d-4af7-bdb1-13b361597941",
   "metadata": {},
   "outputs": [],
   "source": [
    "m.read_triples(\"lecture.ttl\")"
   ]
  },
  {
   "cell_type": "code",
   "execution_count": 8,
   "id": "ab4d1f22-b330-423d-be8a-11f27dd51e4f",
   "metadata": {},
   "outputs": [],
   "source": [
    "await explore(m)"
   ]
  },
  {
   "cell_type": "code",
   "execution_count": null,
   "id": "90d11417-827f-48df-80c3-1c2d13d5bfbd",
   "metadata": {},
   "outputs": [],
   "source": []
  }
 ],
 "metadata": {
  "kernelspec": {
   "display_name": "Python 3 (ipykernel)",
   "language": "python",
   "name": "python3"
  },
  "language_info": {
   "codemirror_mode": {
    "name": "ipython",
    "version": 3
   },
   "file_extension": ".py",
   "mimetype": "text/x-python",
   "name": "python",
   "nbconvert_exporter": "python",
   "pygments_lexer": "ipython3",
   "version": "3.12.8"
  }
 },
 "nbformat": 4,
 "nbformat_minor": 5
}
