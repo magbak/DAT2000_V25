{
 "cells": [
  {
   "cell_type": "code",
   "execution_count": null,
   "id": "0c3aa971-2a46-4fa7-ab85-961f890a5467",
   "metadata": {},
   "outputs": [],
   "source": [
    "from maplib import Mapping, explore\n",
    "import polars as pl\n",
    "pl.Config.set_fmt_str_lengths(200)"
   ]
  },
  {
   "cell_type": "code",
   "execution_count": null,
   "id": "6b23edf0-7a5b-4066-ade3-0c4026d7e4aa",
   "metadata": {},
   "outputs": [],
   "source": [
    "m = Mapping()"
   ]
  },
  {
   "cell_type": "code",
   "execution_count": null,
   "id": "62d98358-cfe3-4c56-8d41-a14d182f3e31",
   "metadata": {},
   "outputs": [],
   "source": [
    "publicID = \"urn:ukgrid:bridgewater\"\n",
    "m.read_triples(\"bridgwater/cgmes_206008_bridgwater_sgp_2023_09_14_20.25.21.xml\", base_iri=publicID)\n",
    "m.read_triples(\"bridgwater/CoreEquipment.nt\")\n",
    "m.read_triples(\"bridgwater/Operation.nt\")"
   ]
  },
  {
   "cell_type": "code",
   "execution_count": null,
   "id": "84161e93-4de4-4d63-a842-33fa0d5bb204",
   "metadata": {},
   "outputs": [],
   "source": [
    "await explore(m)"
   ]
  },
  {
   "cell_type": "markdown",
   "id": "5c702978-cb09-4e4b-a90d-c0e6f922ebc0",
   "metadata": {},
   "source": [
    "## Oppgave 0"
   ]
  },
  {
   "cell_type": "code",
   "execution_count": null,
   "id": "038441d7-f288-4d49-a279-b10ad51dcc42",
   "metadata": {},
   "outputs": [],
   "source": [
    "m.query(\"\"\"\n",
    "PREFIX cim:     \t<http://iec.ch/TC57/2013/CIM-schema-cim16#>\n",
    "PREFIX rdf: \t\t<http://www.w3.org/1999/02/22-rdf-syntax-ns#> \n",
    "PREFIX rdfs:    \t<http://www.w3.org/2000/01/rdf-schema#>\n",
    "PREFIX lede:    \t<https://lede.no/cim/>\n",
    "SELECT ?instance_name \n",
    "WHERE {\n",
    "    ?instance rdf:type cim:PowerTransformer .\n",
    "    ?instance cim:IdentifiedObject.name ?instance_name .\n",
    "} \n",
    "\"\"\")"
   ]
  },
  {
   "cell_type": "markdown",
   "id": "070e21ce-569b-4c2f-83fc-449bd1a9c11a",
   "metadata": {},
   "source": [
    "## Oppgave 1"
   ]
  },
  {
   "cell_type": "code",
   "execution_count": null,
   "id": "de025a1f-d015-411f-9d80-258e614cfe57",
   "metadata": {},
   "outputs": [],
   "source": [
    "m.query(\"\"\"\n",
    "PREFIX cim:     \t<http://iec.ch/TC57/2013/CIM-schema-cim16#>\n",
    "PREFIX rdf: \t\t<http://www.w3.org/1999/02/22-rdf-syntax-ns#> \n",
    "PREFIX rdfs:    \t<http://www.w3.org/2000/01/rdf-schema#>\n",
    "PREFIX lede:    \t<https://lede.no/cim/>\n",
    "SELECT ?instance_name ?end_name ?base_voltage_name ?nominal_voltage \n",
    "WHERE {\n",
    "    ?instance rdf:type cim:PowerTransformer .\n",
    "    ?instance cim:IdentifiedObject.name ?instance_name .\n",
    "    ?end cim:PowerTransformerEnd.PowerTransformer ?instance . \n",
    "    ?end cim:IdentifiedObject.name ?end_name .\n",
    "    ?end cim:TransformerEnd.BaseVoltage ?base_voltage .\n",
    "    ?base_voltage cim:IdentifiedObject.name ?base_voltage_name .\n",
    "    ?base_voltage cim:BaseVoltage.nominalVoltage ?nominal_voltage .\n",
    "} \n",
    "\"\"\")"
   ]
  },
  {
   "cell_type": "markdown",
   "id": "7c3deb7c-b76e-4c98-b69f-72c9efa1730f",
   "metadata": {},
   "source": [
    "## Oppgave 2"
   ]
  },
  {
   "cell_type": "code",
   "execution_count": null,
   "id": "0a303e7a-e9ff-4def-af9f-447602082b5f",
   "metadata": {},
   "outputs": [],
   "source": [
    "m.query(\"\"\"\n",
    "PREFIX cim:     \t<http://iec.ch/TC57/2013/CIM-schema-cim16#>\n",
    "PREFIX rdf: \t\t<http://www.w3.org/1999/02/22-rdf-syntax-ns#> \n",
    "PREFIX rdfs:    \t<http://www.w3.org/2000/01/rdf-schema#>\n",
    "PREFIX lede:    \t<https://lede.no/cim/>\n",
    "PREFIX xsd:         <http://www.w3.org/2001/XMLSchema#>\n",
    "SELECT ?instance_name ?end_name ?base_voltage_name ?nominal_voltage \n",
    "WHERE {\n",
    "    ?instance rdf:type cim:PowerTransformer .\n",
    "    ?instance cim:IdentifiedObject.name ?instance_name .\n",
    "    ?end cim:PowerTransformerEnd.PowerTransformer ?instance . \n",
    "    ?end cim:IdentifiedObject.name ?end_name .\n",
    "    ?end cim:TransformerEnd.BaseVoltage ?base_voltage .\n",
    "    ?base_voltage cim:IdentifiedObject.name ?base_voltage_name .\n",
    "    ?base_voltage cim:BaseVoltage.nominalVoltage ?nominal_voltage .\n",
    "    FILTER(xsd:float(?nominal_voltage) > 11)\n",
    "} \n",
    "\"\"\")"
   ]
  },
  {
   "cell_type": "markdown",
   "id": "64c6be83-5b00-4e76-bc03-5092e9293666",
   "metadata": {},
   "source": [
    "## Oppgave 3"
   ]
  },
  {
   "cell_type": "code",
   "execution_count": null,
   "id": "dd019e4b-ea27-49df-987b-971baf7cad3e",
   "metadata": {},
   "outputs": [],
   "source": [
    "df = m.query(\"\"\"\n",
    "PREFIX cim:     \t<http://iec.ch/TC57/2013/CIM-schema-cim16#>\n",
    "PREFIX rdf: \t\t<http://www.w3.org/1999/02/22-rdf-syntax-ns#> \n",
    "PREFIX rdfs:    \t<http://www.w3.org/2000/01/rdf-schema#>\n",
    "PREFIX lede:    \t<https://lede.no/cim/>\n",
    "PREFIX xsd:         <http://www.w3.org/2001/XMLSchema#>\n",
    "SELECT ?instance_name ?end_name ?base_voltage_name ?nominal_voltage \n",
    "WHERE {\n",
    "    ?instance rdf:type cim:PowerTransformer .\n",
    "    ?instance cim:IdentifiedObject.name ?instance_name .\n",
    "    ?end cim:PowerTransformerEnd.PowerTransformer ?instance . \n",
    "    ?end cim:IdentifiedObject.name ?end_name .\n",
    "    ?end cim:TransformerEnd.BaseVoltage ?base_voltage .\n",
    "    ?base_voltage cim:IdentifiedObject.name ?base_voltage_name .\n",
    "    ?base_voltage cim:BaseVoltage.nominalVoltage ?nominal_voltage .\n",
    "    FILTER(xsd:float(?nominal_voltage) > 11)\n",
    "} \n",
    "\"\"\")\n",
    "df"
   ]
  },
  {
   "cell_type": "code",
   "execution_count": null,
   "id": "20c2b3e8-6a99-48b7-a1ae-aeea042ae7df",
   "metadata": {},
   "outputs": [],
   "source": [
    "df = df.with_columns(\n",
    "    pl.col(\"nominal_voltage\").cast(pl.Float64)\n",
    ")\n",
    "df"
   ]
  },
  {
   "cell_type": "code",
   "execution_count": null,
   "id": "a1a5bf40-78be-4bcf-b055-f634f723b15d",
   "metadata": {},
   "outputs": [],
   "source": [
    "df = df.sort(pl.col(\"nominal_voltage\"),descending=True)\n",
    "df"
   ]
  },
  {
   "cell_type": "code",
   "execution_count": null,
   "id": "2c1a39c6-0739-4f25-910f-44883b460a29",
   "metadata": {},
   "outputs": [],
   "source": [
    "#await explore(m, popup=False)"
   ]
  },
  {
   "cell_type": "markdown",
   "id": "3904589e-0ae2-48e2-9b99-aa5cb2da5426",
   "metadata": {},
   "source": [
    "## Oppgave 4"
   ]
  },
  {
   "cell_type": "code",
   "execution_count": null,
   "id": "6f2548f5-1513-4f3e-a214-54501948c461",
   "metadata": {},
   "outputs": [],
   "source": [
    "m.query(\"\"\"\n",
    "PREFIX cim:     \t<http://iec.ch/TC57/2013/CIM-schema-cim16#>\n",
    "PREFIX rdf: \t\t<http://www.w3.org/1999/02/22-rdf-syntax-ns#> \n",
    "PREFIX rdfs:    \t<http://www.w3.org/2000/01/rdf-schema#>\n",
    "PREFIX lede:    \t<https://lede.no/cim/>\n",
    "PREFIX xsd:         <http://www.w3.org/2001/XMLSchema#>\n",
    "SELECT ?segment_name ?limit_name ?current_limit_value \n",
    "WHERE {\n",
    "    ?segment a cim:ACLineSegment .\n",
    "    ?segment cim:IdentifiedObject.name ?segment_name .\n",
    "    ?limit_set cim:OperationalLimitSet.Equipment ?segment .\n",
    "    ?limit_set cim:IdentifiedObject.name ?limit_name .\n",
    "    ?limit_set a cim:OperationalLimitSet .\n",
    "    ?current_limit a cim:CurrentLimit .\n",
    "    ?current_limit cim:OperationalLimit.OperationalLimitSet ?limit_set .\n",
    "    ?current_limit cim:CurrentLimit.value ?current_limit_value . \n",
    "} \n",
    "\"\"\")"
   ]
  },
  {
   "cell_type": "markdown",
   "id": "1c45ad23-1b69-4e0b-b8c6-d1c501e78db0",
   "metadata": {},
   "source": [
    "## Oppgave 5 "
   ]
  },
  {
   "cell_type": "code",
   "execution_count": null,
   "id": "8439a02e-5b65-41e0-8326-21d1b5ce97d5",
   "metadata": {},
   "outputs": [],
   "source": [
    "df = m.query(\"\"\"\n",
    "PREFIX cim: <http://iec.ch/TC57/2013/CIM-schema-cim16#>\n",
    "PREFIX rdfs: <http://www.w3.org/2000/01/rdf-schema#>\n",
    "PREFIX xsd: <http://www.w3.org/2001/XMLSchema#>\n",
    "\n",
    "SELECT ?pt_name ?nv1 ?nv2 WHERE {\n",
    "    ?pt a cim:PowerTransformer . #?pt er en PowerTransformer\n",
    "    ?pt cim:IdentifiedObject.name ?pt_name . #Navnet til ?pt er ?pt_name\n",
    "    # ?pt har tre power transformer end\n",
    "    ?pte1 a cim:PowerTransformerEnd .\n",
    "    ?pte2 a cim:PowerTransformerEnd .\n",
    "    ?pte1 cim:PowerTransformerEnd.PowerTransformer ?pt .\n",
    "    ?pte2 cim:PowerTransformerEnd.PowerTransformer ?pt .\n",
    "    # Disse power transformer end har hver sin nominelle spenning ?nv1, ?nv2 og ?nv3\n",
    "    ?pte1 cim:TransformerEnd.BaseVoltage ?base_voltage1 .\n",
    "    ?base_voltage1 cim:IdentifiedObject.name ?base_voltage1_name .\n",
    "    ?base_voltage1 cim:BaseVoltage.nominalVoltage ?nv1 .\n",
    "    ?pte2 cim:TransformerEnd.BaseVoltage ?base_voltage2 .\n",
    "    ?base_voltage2 cim:IdentifiedObject.name ?base_voltage2_name .\n",
    "    ?base_voltage2 cim:BaseVoltage.nominalVoltage ?nv2 .\n",
    "    FILTER(\n",
    "        xsd:float(?nv1) > xsd:float(?nv2)\n",
    "        )\n",
    "    } LIMIT 100\n",
    "\"\"\")\n",
    "df"
   ]
  },
  {
   "cell_type": "markdown",
   "id": "27faf92c-3c86-47fc-bd91-6c3a3ee2e134",
   "metadata": {},
   "source": [
    "Diagnosespørring for å sjekke antall power transformer end pr. power transformer"
   ]
  },
  {
   "cell_type": "code",
   "execution_count": null,
   "id": "31fa9bbb-4c73-4ec7-8efe-c0cc562a7ec0",
   "metadata": {},
   "outputs": [],
   "source": [
    "df = m.query(\"\"\"\n",
    "PREFIX cim: <http://iec.ch/TC57/2013/CIM-schema-cim16#>\n",
    "PREFIX rdfs: <http://www.w3.org/2000/01/rdf-schema#>\n",
    "PREFIX xsd: <http://www.w3.org/2001/XMLSchema#>\n",
    "\n",
    "SELECT ?pt_name ?pte_name WHERE {\n",
    "    ?pt a cim:PowerTransformer .\n",
    "    ?pt cim:IdentifiedObject.name ?pt_name . \n",
    "    ?pte a cim:PowerTransformerEnd .\n",
    "    ?pte cim:PowerTransformerEnd.PowerTransformer ?pt .\n",
    "    ?pte cim:IdentifiedObject.name ?pte_name . \n",
    "}\n",
    "\"\"\")\n",
    "df"
   ]
  },
  {
   "cell_type": "markdown",
   "id": "71906498-2160-4fcf-a8a7-5651541a04c3",
   "metadata": {},
   "source": [
    "Tell antall power transformer end pr. power transformer, og sorter synkende på antall."
   ]
  },
  {
   "cell_type": "code",
   "execution_count": null,
   "id": "62ad680f-6c5a-4ceb-af52-fd2fb20e9ad7",
   "metadata": {},
   "outputs": [],
   "source": [
    "df.group_by(\"pt_name\").agg(\n",
    "    pl.col(\"pte_name\").count().alias(\"pte_name_count\"),\n",
    "    pl.col(\"pte_name\").alias(\"pte_name_list\")\n",
    ").sort(\n",
    "    \"pte_name_count\", descending=True\n",
    ")"
   ]
  },
  {
   "cell_type": "code",
   "execution_count": null,
   "id": "0e4ab0b2-4cdb-4d15-a2a6-ecf381a9859c",
   "metadata": {},
   "outputs": [],
   "source": []
  }
 ],
 "metadata": {
  "kernelspec": {
   "display_name": "Python 3 (ipykernel)",
   "language": "python",
   "name": "python3"
  },
  "language_info": {
   "codemirror_mode": {
    "name": "ipython",
    "version": 3
   },
   "file_extension": ".py",
   "mimetype": "text/x-python",
   "name": "python",
   "nbconvert_exporter": "python",
   "pygments_lexer": "ipython3",
   "version": "3.12.8"
  }
 },
 "nbformat": 4,
 "nbformat_minor": 5
}
