{
 "cells": [
  {
   "cell_type": "code",
   "execution_count": null,
   "id": "0c3aa971-2a46-4fa7-ab85-961f890a5467",
   "metadata": {},
   "outputs": [],
   "source": [
    "from maplib import Mapping, explore\n",
    "import polars as pl\n",
    "pl.Config.set_fmt_str_lengths(200)"
   ]
  },
  {
   "cell_type": "code",
   "execution_count": null,
   "id": "6b23edf0-7a5b-4066-ade3-0c4026d7e4aa",
   "metadata": {},
   "outputs": [],
   "source": [
    "m = Mapping()"
   ]
  },
  {
   "cell_type": "code",
   "execution_count": null,
   "id": "62d98358-cfe3-4c56-8d41-a14d182f3e31",
   "metadata": {},
   "outputs": [],
   "source": [
    "publicID = \"urn:ukgrid:bridgewater\"\n",
    "m.read_triples(\"bridgwater/cgmes_206008_bridgwater_sgp_2023_09_14_20.25.21.xml\", base_iri=publicID)\n",
    "m.read_triples(\"bridgwater/CoreEquipment.nt\")\n",
    "m.read_triples(\"bridgwater/Operation.nt\")"
   ]
  },
  {
   "cell_type": "code",
   "execution_count": null,
   "id": "d8e6f6d6-56ec-4cf6-99ca-f166e4e54331",
   "metadata": {},
   "outputs": [],
   "source": [
    "await explore(m)"
   ]
  },
  {
   "cell_type": "code",
   "execution_count": null,
   "id": "6fc5d5f5-4d99-444f-9112-2afbd3dd1b5f",
   "metadata": {},
   "outputs": [],
   "source": [
    "df = m.query(\"\"\"\n",
    "PREFIX cim:  <http://iec.ch/TC57/2013/CIM-schema-cim16#>\n",
    "PREFIX xsd:  <http://www.w3.org/2001/XMLSchema#>\n",
    "PREFIX rdfs: <http://www.w3.org/2000/01/rdf-schema#>\n",
    "SELECT ?pt ?pt_name WHERE {\n",
    "    ?pt a cim:PowerTransformer .\n",
    "    ?pt cim:IdentifiedObject.name ?pt_name .\n",
    "    ?end cim:PowerTransformerEnd.PowerTransformer ?pt .\n",
    "}\n",
    "\"\"\")\n",
    "df"
   ]
  },
  {
   "cell_type": "code",
   "execution_count": null,
   "id": "2cb47c1a-efda-4393-9321-ac1d595a85e8",
   "metadata": {},
   "outputs": [],
   "source": [
    "df = m.query(\"\"\"\n",
    "PREFIX cim:  <http://iec.ch/TC57/2013/CIM-schema-cim16#>\n",
    "PREFIX xsd:  <http://www.w3.org/2001/XMLSchema#>\n",
    "PREFIX rdfs: <http://www.w3.org/2000/01/rdf-schema#>\n",
    "SELECT ?pt ?pt_name ?type WHERE {\n",
    "    ?pt a ?type .\n",
    "    ?pt cim:IdentifiedObject.name ?pt_name .\n",
    "    FILTER(?type = cim:PowerTransformer) \n",
    "    FILTER(CONTAINS(?pt_name, \"250\"))\n",
    "}\n",
    "\"\"\")\n",
    "df"
   ]
  },
  {
   "cell_type": "code",
   "execution_count": null,
   "id": "ca29acfd-7fc0-4166-860f-ce3e395204b8",
   "metadata": {},
   "outputs": [],
   "source": [
    "df = m.query(\"\"\"\n",
    "PREFIX cim:  <http://iec.ch/TC57/2013/CIM-schema-cim16#>\n",
    "PREFIX xsd:  <http://www.w3.org/2001/XMLSchema#>\n",
    "PREFIX rdfs: <http://www.w3.org/2000/01/rdf-schema#>\n",
    "SELECT ?pt_name ?end1 ?end2 WHERE {\n",
    "    ?pt a ?type .\n",
    "    ?pt cim:IdentifiedObject.name ?pt_name .\n",
    "    ?end1 cim:PowerTransformerEnd.PowerTransformer ?pt .\n",
    "    ?end2 cim:PowerTransformerEnd.PowerTransformer ?pt .\n",
    "    FILTER(?type = cim:PowerTransformer) \n",
    "    FILTER(?end1 != ?end2)\n",
    "    FILTER(str(?end1) < str(?end2))\n",
    "}\n",
    "\"\"\")\n",
    "df"
   ]
  },
  {
   "cell_type": "code",
   "execution_count": null,
   "id": "85fa862d-802c-4b73-a574-14367344670c",
   "metadata": {},
   "outputs": [],
   "source": []
  }
 ],
 "metadata": {
  "kernelspec": {
   "display_name": "Python 3 (ipykernel)",
   "language": "python",
   "name": "python3"
  },
  "language_info": {
   "codemirror_mode": {
    "name": "ipython",
    "version": 3
   },
   "file_extension": ".py",
   "mimetype": "text/x-python",
   "name": "python",
   "nbconvert_exporter": "python",
   "pygments_lexer": "ipython3",
   "version": "3.12.8"
  }
 },
 "nbformat": 4,
 "nbformat_minor": 5
}
