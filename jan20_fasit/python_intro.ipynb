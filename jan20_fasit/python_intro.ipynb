{
 "cells": [
  {
   "cell_type": "code",
   "execution_count": 1,
   "id": "a20137b8",
   "metadata": {},
   "outputs": [],
   "source": [
    "import os"
   ]
  },
  {
   "cell_type": "markdown",
   "id": "4502db6b",
   "metadata": {
    "collapsed": true,
    "jupyter": {
     "outputs_hidden": true
    }
   },
   "source": [
    "# Intro til Python"
   ]
  },
  {
   "cell_type": "markdown",
   "id": "8461b3dd",
   "metadata": {},
   "source": [
    "### Lister"
   ]
  },
  {
   "cell_type": "code",
   "execution_count": 7,
   "id": "de24966c",
   "metadata": {},
   "outputs": [
    {
     "data": {
      "text/plain": [
       "[1, 2, 3]"
      ]
     },
     "execution_count": 7,
     "metadata": {},
     "output_type": "execute_result"
    }
   ],
   "source": [
    "l1 = [1,2,3]\n",
    "l1"
   ]
  },
  {
   "cell_type": "markdown",
   "id": "6ff1962a-15ac-4b2a-8619-73067eaa2687",
   "metadata": {},
   "source": [
    "Vi har med l1 som linje 2 her for å få printa den.\n",
    "Vi kan også printe direkte."
   ]
  },
  {
   "cell_type": "code",
   "execution_count": 8,
   "id": "d2379050-9a23-47cc-9814-6c89eccc4997",
   "metadata": {},
   "outputs": [
    {
     "name": "stdout",
     "output_type": "stream",
     "text": [
      "[1, 2, 3]\n"
     ]
    }
   ],
   "source": [
    "print(l1)"
   ]
  },
  {
   "cell_type": "markdown",
   "id": "f1d0970a",
   "metadata": {},
   "source": [
    "#### Dynamisk typing\n",
    "Her måtte man nok laget seg en ny klasse i f.eks. Java. "
   ]
  },
  {
   "cell_type": "code",
   "execution_count": 9,
   "id": "b39c43cf",
   "metadata": {},
   "outputs": [
    {
     "data": {
      "text/plain": [
       "['a', 32, [], [1, 3, None], False, True]"
      ]
     },
     "execution_count": 9,
     "metadata": {},
     "output_type": "execute_result"
    }
   ],
   "source": [
    "l2 = [\"a\", 32, [], [1,3,None], False, True]\n",
    "l2"
   ]
  },
  {
   "cell_type": "markdown",
   "id": "0b68fe99-bf81-439c-8da5-437ff372c8c2",
   "metadata": {},
   "source": [
    "### Litt om kontroll"
   ]
  },
  {
   "cell_type": "code",
   "execution_count": 10,
   "id": "24c2a3d9-5e56-416f-9692-01d01bce1a7c",
   "metadata": {},
   "outputs": [
    {
     "name": "stdout",
     "output_type": "stream",
     "text": [
      "Akkurat 55!!\n"
     ]
    }
   ],
   "source": [
    "i = 55\n",
    "if i > 55:\n",
    "    print(\"Over 55!\")\n",
    "elif i <55:\n",
    "    print(\"Under 55!\")\n",
    "else:\n",
    "    print(\"Akkurat 55!!\")"
   ]
  },
  {
   "cell_type": "markdown",
   "id": "8ab72f8a-04ac-4c54-817e-d3e1a8a61c4c",
   "metadata": {},
   "source": [
    "Vi bruker IKKE parentesene { og }. I stedet bruker vi indentering (trykk tab!!).\n",
    "Nøstede uttrykk må indenteres enda en gang.. "
   ]
  },
  {
   "cell_type": "code",
   "execution_count": 11,
   "id": "76bbec39-6bc2-4f53-9f01-2a1db8fb93df",
   "metadata": {},
   "outputs": [
    {
     "name": "stdout",
     "output_type": "stream",
     "text": [
      "Hei\n",
      "j=0\n",
      "j=1\n",
      "j=2\n",
      "på\n",
      "j=0\n",
      "j=1\n",
      "j=2\n",
      "deg\n",
      "j=0\n",
      "j=1\n",
      "j=2\n",
      "1\n",
      "j=0\n",
      "j=1\n",
      "j=2\n",
      "2\n",
      "j=0\n",
      "j=1\n",
      "j=2\n",
      "3\n",
      "j=0\n",
      "j=1\n",
      "j=2\n"
     ]
    }
   ],
   "source": [
    "for i in [\"Hei\", \"på\", \"deg\", 1, 2, 3]:\n",
    "    print(i)\n",
    "    for j in range(3):\n",
    "        print(f\"j={j}\")        "
   ]
  },
  {
   "cell_type": "markdown",
   "id": "536250dd",
   "metadata": {},
   "source": [
    "#### List comprehension"
   ]
  },
  {
   "cell_type": "code",
   "execution_count": 12,
   "id": "804da4de",
   "metadata": {},
   "outputs": [],
   "source": [
    "l3 = [f\"Hallo{i}\" for i in range(10)]"
   ]
  },
  {
   "cell_type": "code",
   "execution_count": 13,
   "id": "1abab26a",
   "metadata": {},
   "outputs": [
    {
     "data": {
      "text/plain": [
       "['Hallo0',\n",
       " 'Hallo1',\n",
       " 'Hallo2',\n",
       " 'Hallo3',\n",
       " 'Hallo4',\n",
       " 'Hallo5',\n",
       " 'Hallo6',\n",
       " 'Hallo7',\n",
       " 'Hallo8',\n",
       " 'Hallo9']"
      ]
     },
     "execution_count": 13,
     "metadata": {},
     "output_type": "execute_result"
    }
   ],
   "source": [
    "l3"
   ]
  },
  {
   "cell_type": "markdown",
   "id": "be7fe74c",
   "metadata": {},
   "source": [
    "#### Samme som "
   ]
  },
  {
   "cell_type": "code",
   "execution_count": null,
   "id": "5a045307",
   "metadata": {},
   "outputs": [],
   "source": [
    "l4 = []\n",
    "for i in range(10):\n",
    "    l4.append(f\"Hallo{i}\")\n",
    "l4"
   ]
  },
  {
   "cell_type": "markdown",
   "id": "ed20e304",
   "metadata": {},
   "source": [
    "#### Verdi på indeks"
   ]
  },
  {
   "cell_type": "code",
   "execution_count": null,
   "id": "295119ef",
   "metadata": {},
   "outputs": [],
   "source": [
    "l4[9]"
   ]
  },
  {
   "cell_type": "code",
   "execution_count": null,
   "id": "362c4f4c",
   "metadata": {},
   "outputs": [],
   "source": [
    "l4[10]"
   ]
  },
  {
   "cell_type": "markdown",
   "id": "09ac1e60",
   "metadata": {},
   "source": [
    "#### Indeks til verdi"
   ]
  },
  {
   "cell_type": "code",
   "execution_count": null,
   "id": "a1a4c5f5",
   "metadata": {},
   "outputs": [],
   "source": [
    "l4.index(\"Hallo9\")"
   ]
  },
  {
   "cell_type": "markdown",
   "id": "d4426db9",
   "metadata": {},
   "source": [
    "#### Lengde"
   ]
  },
  {
   "cell_type": "code",
   "execution_count": null,
   "id": "e2ad72d4",
   "metadata": {},
   "outputs": [],
   "source": [
    "# Listelengden\n",
    "len(l4)"
   ]
  },
  {
   "cell_type": "code",
   "execution_count": null,
   "id": "1da759f9",
   "metadata": {},
   "outputs": [],
   "source": [
    "str(l4)"
   ]
  },
  {
   "cell_type": "code",
   "execution_count": null,
   "id": "c214c2b0",
   "metadata": {},
   "outputs": [],
   "source": [
    "l4.__len__()"
   ]
  },
  {
   "cell_type": "markdown",
   "id": "4caf3901",
   "metadata": {},
   "source": [
    "#### Slice av liste"
   ]
  },
  {
   "cell_type": "code",
   "execution_count": null,
   "id": "87fee07e",
   "metadata": {},
   "outputs": [],
   "source": [
    "l4[0:33]"
   ]
  },
  {
   "cell_type": "code",
   "execution_count": null,
   "id": "4ddf26b7",
   "metadata": {},
   "outputs": [],
   "source": [
    "l4[0:1]"
   ]
  },
  {
   "cell_type": "code",
   "execution_count": null,
   "id": "4f62af9f",
   "metadata": {},
   "outputs": [],
   "source": [
    "l4[8992:]"
   ]
  },
  {
   "cell_type": "code",
   "execution_count": null,
   "id": "f3ca745f",
   "metadata": {},
   "outputs": [],
   "source": [
    "l4[-8:]"
   ]
  },
  {
   "cell_type": "markdown",
   "id": "2ff1b86e",
   "metadata": {},
   "source": [
    "#### Enumerering"
   ]
  },
  {
   "cell_type": "code",
   "execution_count": null,
   "id": "0680a027",
   "metadata": {},
   "outputs": [],
   "source": [
    "for (i, e) in enumerate(l4):\n",
    "    print(i,e)"
   ]
  },
  {
   "cell_type": "markdown",
   "id": "20536f35",
   "metadata": {},
   "source": [
    "### Dict "
   ]
  },
  {
   "cell_type": "code",
   "execution_count": null,
   "id": "49cbef01",
   "metadata": {},
   "outputs": [],
   "source": [
    "d = {\"A\":1, \n",
    "     \"B\":2,\n",
    "     \"C\":3}\n",
    "d"
   ]
  },
  {
   "cell_type": "code",
   "execution_count": null,
   "id": "5dc07248",
   "metadata": {},
   "outputs": [],
   "source": [
    "d[\"A\"]"
   ]
  },
  {
   "cell_type": "code",
   "execution_count": null,
   "id": "6d642100",
   "metadata": {},
   "outputs": [],
   "source": [
    "d[\"D\"]"
   ]
  },
  {
   "cell_type": "code",
   "execution_count": null,
   "id": "08c59cce",
   "metadata": {},
   "outputs": [],
   "source": [
    "if \"D\" in d:\n",
    "    print(\"D finnes!\")\n",
    "else:\n",
    "    print(\"D finnes ikke!\")"
   ]
  },
  {
   "cell_type": "code",
   "execution_count": null,
   "id": "529026c2",
   "metadata": {},
   "outputs": [],
   "source": [
    "d[\"F\"] = 32\n",
    "d[\"F\"]"
   ]
  },
  {
   "cell_type": "code",
   "execution_count": null,
   "id": "e5e565a5",
   "metadata": {},
   "outputs": [],
   "source": [
    "d"
   ]
  },
  {
   "cell_type": "markdown",
   "id": "fed0ad29",
   "metadata": {},
   "source": [
    "#### Dict comprehension"
   ]
  },
  {
   "cell_type": "code",
   "execution_count": null,
   "id": "0b7cfe98",
   "metadata": {},
   "outputs": [],
   "source": [
    "d2 = {i:e for (i,e) in enumerate(\"ABCDEFGHIJKLMNOP\")}\n",
    "d2"
   ]
  },
  {
   "cell_type": "code",
   "execution_count": null,
   "id": "d10931a7",
   "metadata": {},
   "outputs": [],
   "source": [
    "for t in d2.items():\n",
    "    print(t)"
   ]
  },
  {
   "cell_type": "code",
   "execution_count": null,
   "id": "3707a5cd",
   "metadata": {},
   "outputs": [],
   "source": [
    "d3 = {v:k for (k,v) in d2.items()}\n",
    "d3"
   ]
  },
  {
   "cell_type": "code",
   "execution_count": null,
   "id": "c41cf179",
   "metadata": {},
   "outputs": [],
   "source": [
    "s = {\"A\", \"B\", \"C\", \"D\", \"D\", \"A\"}\n",
    "t = {\"D\", \"E\", \"F\", \"G\", \"A\"}\n",
    "print(\"s:\", s)\n",
    "print(\"t:\", t)"
   ]
  },
  {
   "cell_type": "code",
   "execution_count": null,
   "id": "1fec86e9",
   "metadata": {},
   "outputs": [],
   "source": [
    "s.intersection(t)"
   ]
  },
  {
   "cell_type": "code",
   "execution_count": null,
   "id": "2de0cdb4",
   "metadata": {},
   "outputs": [],
   "source": [
    "s.union(t)"
   ]
  },
  {
   "cell_type": "code",
   "execution_count": null,
   "id": "90445449",
   "metadata": {},
   "outputs": [],
   "source": [
    "s.difference(t)"
   ]
  },
  {
   "cell_type": "code",
   "execution_count": null,
   "id": "5b9e8753",
   "metadata": {},
   "outputs": [],
   "source": [
    "s - t"
   ]
  },
  {
   "cell_type": "code",
   "execution_count": null,
   "id": "c4115f1e",
   "metadata": {},
   "outputs": [],
   "source": [
    "t - s"
   ]
  },
  {
   "cell_type": "markdown",
   "id": "bb387473",
   "metadata": {},
   "source": [
    "#### Liste til sett"
   ]
  },
  {
   "cell_type": "code",
   "execution_count": null,
   "id": "7f361e16",
   "metadata": {},
   "outputs": [],
   "source": [
    "sl1 = set(l1)\n",
    "sl1"
   ]
  },
  {
   "cell_type": "code",
   "execution_count": null,
   "id": "9774c65e",
   "metadata": {},
   "outputs": [],
   "source": [
    "1 in sl1"
   ]
  },
  {
   "cell_type": "markdown",
   "id": "e221be3c",
   "metadata": {},
   "source": [
    "### Tupler"
   ]
  },
  {
   "cell_type": "code",
   "execution_count": null,
   "id": "8e3f8743",
   "metadata": {},
   "outputs": [],
   "source": [
    "tup1 = (True,)\n",
    "tup1"
   ]
  },
  {
   "cell_type": "code",
   "execution_count": null,
   "id": "7ea860ad",
   "metadata": {},
   "outputs": [],
   "source": [
    "tup2 = (1,2,3)\n",
    "tup2"
   ]
  },
  {
   "cell_type": "markdown",
   "id": "0ebbe811",
   "metadata": {},
   "source": [
    "#### Tupler kan aksesseres litt som lister"
   ]
  },
  {
   "cell_type": "code",
   "execution_count": null,
   "id": "8e8fcf2c",
   "metadata": {},
   "outputs": [],
   "source": [
    "print(len(tup1))\n",
    "print(len(tup2))\n",
    "print(tup1[0])"
   ]
  },
  {
   "cell_type": "code",
   "execution_count": null,
   "id": "b13a18ce",
   "metadata": {},
   "outputs": [],
   "source": [
    "print(tup2[1:])"
   ]
  },
  {
   "cell_type": "code",
   "execution_count": null,
   "id": "cf831020",
   "metadata": {},
   "outputs": [],
   "source": [
    "tup2[0] = 88"
   ]
  },
  {
   "cell_type": "markdown",
   "id": "9ddba573",
   "metadata": {},
   "source": [
    "#### Tupler kan være dict-nøkler, men lister kan ikke"
   ]
  },
  {
   "cell_type": "code",
   "execution_count": null,
   "id": "0f40d438",
   "metadata": {},
   "outputs": [],
   "source": [
    "d5 = {[\"A\", \"B\"]:37}\n",
    "d5"
   ]
  },
  {
   "cell_type": "code",
   "execution_count": null,
   "id": "019d4bf6",
   "metadata": {},
   "outputs": [],
   "source": [
    "d6 = {(\"A\", \"B\"):37}\n",
    "d6"
   ]
  },
  {
   "cell_type": "markdown",
   "id": "194a9403934635b",
   "metadata": {},
   "source": [
    "### Input"
   ]
  },
  {
   "cell_type": "code",
   "execution_count": null,
   "id": "d4c9fb6d4b91de98",
   "metadata": {},
   "outputs": [],
   "source": [
    "with open(\"app.py\", \"r\") as f:\n",
    "    print(f.readlines())"
   ]
  },
  {
   "cell_type": "code",
   "execution_count": null,
   "id": "46e258121ef0177e",
   "metadata": {},
   "outputs": [],
   "source": [
    "import os\n",
    "os.listdir(\".\")"
   ]
  },
  {
   "cell_type": "markdown",
   "id": "8e73200193952753",
   "metadata": {},
   "source": [
    "### Funksjoner"
   ]
  },
  {
   "cell_type": "code",
   "execution_count": null,
   "id": "7af7a055fc174a24",
   "metadata": {},
   "outputs": [],
   "source": [
    "def plusstotall(x,y):\n",
    "    return x+y"
   ]
  },
  {
   "cell_type": "code",
   "execution_count": null,
   "id": "db6f4bb94df487ac",
   "metadata": {},
   "outputs": [],
   "source": [
    "plusstotall(1,2)"
   ]
  },
  {
   "cell_type": "code",
   "execution_count": null,
   "id": "7bdfc7dd",
   "metadata": {},
   "outputs": [],
   "source": [
    "#Funksjonen vår er dynamisk typet, og fungerer på alt som har +.. \n",
    "plusstotall(\"A\", \"lfabetet\")"
   ]
  },
  {
   "cell_type": "code",
   "execution_count": null,
   "id": "1dd9d4bb",
   "metadata": {},
   "outputs": [],
   "source": [
    "tallet_mitt = 35"
   ]
  },
  {
   "cell_type": "code",
   "execution_count": null,
   "id": "5e1c6da6",
   "metadata": {},
   "outputs": [],
   "source": [
    "f = lambda x: x+tallet_mitt"
   ]
  },
  {
   "cell_type": "code",
   "execution_count": null,
   "id": "2d80d332",
   "metadata": {},
   "outputs": [],
   "source": [
    "f(5)"
   ]
  }
 ],
 "metadata": {
  "kernelspec": {
   "display_name": "Python 3 (ipykernel)",
   "language": "python",
   "name": "python3"
  },
  "language_info": {
   "codemirror_mode": {
    "name": "ipython",
    "version": 3
   },
   "file_extension": ".py",
   "mimetype": "text/x-python",
   "name": "python",
   "nbconvert_exporter": "python",
   "pygments_lexer": "ipython3",
   "version": "3.12.8"
  }
 },
 "nbformat": 4,
 "nbformat_minor": 5
}
