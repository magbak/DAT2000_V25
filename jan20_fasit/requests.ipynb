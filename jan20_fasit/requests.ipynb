{
 "cells": [
  {
   "cell_type": "code",
   "execution_count": 1,
   "id": "initial_id",
   "metadata": {
    "ExecuteTime": {
     "end_time": "2025-01-19T11:31:22.724406Z",
     "start_time": "2025-01-19T11:31:22.666742Z"
    }
   },
   "outputs": [],
   "source": [
    "import requests"
   ]
  },
  {
   "cell_type": "code",
   "execution_count": 8,
   "id": "36c9d756262a2c6b",
   "metadata": {
    "ExecuteTime": {
     "end_time": "2025-01-19T11:32:00.392022Z",
     "start_time": "2025-01-19T11:32:00.385001Z"
    }
   },
   "outputs": [
    {
     "data": {
      "text/plain": [
       "'Hello anon'"
      ]
     },
     "execution_count": 8,
     "metadata": {},
     "output_type": "execute_result"
    }
   ],
   "source": [
    "resp = requests.get(\"http://localhost:8000\")\n",
    "resp.text"
   ]
  },
  {
   "cell_type": "code",
   "execution_count": 9,
   "id": "4329c062d2c3c0e4",
   "metadata": {
    "ExecuteTime": {
     "end_time": "2025-01-19T11:32:15.804589Z",
     "start_time": "2025-01-19T11:32:15.798331Z"
    }
   },
   "outputs": [
    {
     "data": {
      "text/plain": [
       "'Hello Magnus Bakken'"
      ]
     },
     "execution_count": 9,
     "metadata": {},
     "output_type": "execute_result"
    }
   ],
   "source": [
    "resp = requests.get(\"http://localhost:8000\", params={\"name\":\"Magnus Bakken\"})\n",
    "resp.text"
   ]
  },
  {
   "cell_type": "code",
   "execution_count": 7,
   "id": "7279193e2d1591e",
   "metadata": {},
   "outputs": [
    {
     "data": {
      "text/plain": [
       "'Summen er 99'"
      ]
     },
     "execution_count": 7,
     "metadata": {},
     "output_type": "execute_result"
    }
   ],
   "source": [
    "resp = requests.get(\"http://localhost:8000/sumtwo/\", params={\"a\":44, \"b\":55})\n",
    "resp.text"
   ]
  },
  {
   "cell_type": "code",
   "execution_count": null,
   "id": "d65a3a33-c6f4-4234-b764-89fa7d70f8aa",
   "metadata": {},
   "outputs": [],
   "source": []
  }
 ],
 "metadata": {
  "kernelspec": {
   "display_name": "Python 3 (ipykernel)",
   "language": "python",
   "name": "python3"
  },
  "language_info": {
   "codemirror_mode": {
    "name": "ipython",
    "version": 3
   },
   "file_extension": ".py",
   "mimetype": "text/x-python",
   "name": "python",
   "nbconvert_exporter": "python",
   "pygments_lexer": "ipython3",
   "version": "3.12.8"
  }
 },
 "nbformat": 4,
 "nbformat_minor": 5
}
