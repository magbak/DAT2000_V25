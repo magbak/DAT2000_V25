{
 "cells": [
  {
   "cell_type": "code",
   "execution_count": null,
   "id": "56900ca20cc135b1",
   "metadata": {
    "collapsed": false,
    "jupyter": {
     "outputs_hidden": false
    }
   },
   "outputs": [],
   "source": [
    "import polars as pl"
   ]
  },
  {
   "cell_type": "code",
   "execution_count": null,
   "id": "22b559459776913e",
   "metadata": {
    "collapsed": false,
    "jupyter": {
     "outputs_hidden": false
    }
   },
   "outputs": [],
   "source": [
    "df_t = pl.read_csv(\"tilsyn.csv\", separator=\";\", dtypes={\"postnr\":str})\n",
    "df_t"
   ]
  },
  {
   "cell_type": "code",
   "execution_count": null,
   "id": "1d1a9ac0a4e16e09",
   "metadata": {
    "collapsed": false,
    "jupyter": {
     "outputs_hidden": false
    }
   },
   "outputs": [],
   "source": [
    "# Vi kan skrive til CSV\n",
    "df_t.write_csv(\"tilsyn2.csv\")"
   ]
  },
  {
   "cell_type": "code",
   "execution_count": null,
   "id": "a3decef2310e3125",
   "metadata": {
    "collapsed": false,
    "jupyter": {
     "outputs_hidden": false
    }
   },
   "outputs": [],
   "source": [
    "# Vi kan skrive til Parquet\n",
    "df_t.write_parquet(\"tilsyn.parquet\")"
   ]
  },
  {
   "cell_type": "code",
   "execution_count": null,
   "id": "fcc20f2abf3d6d8",
   "metadata": {
    "collapsed": false,
    "jupyter": {
     "outputs_hidden": false
    }
   },
   "outputs": [],
   "source": [
    "#Vi kan velge en serie:\n",
    "df_t[\"navn\"]"
   ]
  },
  {
   "cell_type": "code",
   "execution_count": null,
   "id": "8f9e59acc11e84af",
   "metadata": {
    "collapsed": false,
    "jupyter": {
     "outputs_hidden": false
    }
   },
   "outputs": [],
   "source": [
    "# Vi kan velge én eller flere kolonner - dette blir en ny DataFrame\n",
    "df_t[[\"navn\", \"postnr\"]]"
   ]
  },
  {
   "cell_type": "code",
   "execution_count": null,
   "id": "cd1a5cfc3f1db336",
   "metadata": {
    "collapsed": false,
    "jupyter": {
     "outputs_hidden": false
    }
   },
   "outputs": [],
   "source": [
    "# Men helst så burde vi bruke denne syntaksen til å velge flere kolonner:\n",
    "df_t.select(\"navn\", \"postnr\")"
   ]
  },
  {
   "cell_type": "code",
   "execution_count": null,
   "id": "acee21694f306fa8",
   "metadata": {
    "collapsed": false,
    "jupyter": {
     "outputs_hidden": false
    }
   },
   "outputs": [],
   "source": [
    "# Vi kan også velge noe som er et uttrykk - legg merke til at \"A\" repeteres\n",
    "# pl.lit(\"A\") betyr en literal\n",
    "df_t.select(pl.lit(\"A\"), \"postnr\")"
   ]
  },
  {
   "cell_type": "code",
   "execution_count": null,
   "id": "87c2110f6db37ad5",
   "metadata": {
    "collapsed": false,
    "jupyter": {
     "outputs_hidden": false
    }
   },
   "outputs": [],
   "source": [
    "# Strengt tatt så kan vi bruke pl.col(\"postnr\") for å si at vi vil ha kolonnen postnummer\n",
    "df_t.select(pl.lit(\"A\"), pl.col(\"postnr\"))"
   ]
  },
  {
   "cell_type": "code",
   "execution_count": null,
   "id": "f891c1e3c8182c3c",
   "metadata": {
    "collapsed": false,
    "jupyter": {
     "outputs_hidden": false
    }
   },
   "outputs": [],
   "source": [
    "# Vi kan filtrere på uttrykk:\n",
    "df_t.filter(pl.col(\"postnr\") == pl.lit(\"3179\"))"
   ]
  },
  {
   "cell_type": "code",
   "execution_count": null,
   "id": "9bf8d99a5741d4d8",
   "metadata": {
    "collapsed": false,
    "jupyter": {
     "outputs_hidden": false
    }
   },
   "outputs": [],
   "source": [
    "# Dette endrer ikke df_t\n",
    "df_t"
   ]
  },
  {
   "cell_type": "code",
   "execution_count": null,
   "id": "3d90d64fffddf5e8",
   "metadata": {
    "collapsed": false,
    "jupyter": {
     "outputs_hidden": false
    }
   },
   "outputs": [],
   "source": [
    "# Vi må gjøre assignment for å endre noe.\n",
    "# Bruk ~ for negasjon, | for or og & for and. \n",
    "# Husk å sette parantes rundt uttrykkene.. \n",
    "\n",
    "df_t2 = df_t.filter((pl.col(\"postnr\") == \"3179\") | (pl.col(\"poststed\") == \"HORTEN\"))\n",
    "df_t2"
   ]
  },
  {
   "cell_type": "code",
   "execution_count": null,
   "id": "dcfcd60588f59df5",
   "metadata": {
    "collapsed": false,
    "jupyter": {
     "outputs_hidden": false
    }
   },
   "outputs": [],
   "source": [
    "# Vi kan tilordne til kolonner\n",
    "df_t3 = df_t.with_columns(\n",
    "    (pl.col(\"postnr\") + pl.lit(\" \") + pl.col(\"poststed\")).alias(\"postnr poststed\")\n",
    ")\n",
    "df_t3"
   ]
  },
  {
   "cell_type": "code",
   "execution_count": null,
   "id": "62d1e1e6950e9833",
   "metadata": {
    "collapsed": false,
    "jupyter": {
     "outputs_hidden": false
    }
   },
   "outputs": [],
   "source": [
    "# Vi fikser opp i datoen\n",
    "df_t = df_t.with_columns(\n",
    "    pl.col(\"dato\").cast(str).str.pad_start(8, \"0\").str.to_date(format=\"%d%m%Y\")\n",
    ")"
   ]
  },
  {
   "cell_type": "code",
   "execution_count": null,
   "id": "408f7eabd34a73a9",
   "metadata": {
    "collapsed": false,
    "jupyter": {
     "outputs_hidden": false
    }
   },
   "outputs": [],
   "source": [
    "# Vi kan lage mer kompliserte uttrykk\n",
    "# .str inneholder en del streng-metoder, viktig at datatypen er string i dette tilfellet.\n",
    "df_t.with_columns(\n",
    "    (pl.col(\"poststed\").str.slice(0,1) + \n",
    "     pl.col(\"poststed\").str.slice(1, None).str.to_lowercase()).alias(\"poststed\"))"
   ]
  },
  {
   "cell_type": "code",
   "execution_count": null,
   "id": "b7ec683f48bcaafd",
   "metadata": {
    "collapsed": false,
    "jupyter": {
     "outputs_hidden": false
    }
   },
   "outputs": [],
   "source": [
    "df_k = pl.read_csv(\"kravpunkter.csv\", separator=\";\").with_columns(\n",
    "    pl.col(\"dato\").cast(str).str.pad_start(8, \"0\").str.to_date(format=\"%d%m%Y\")\n",
    ")\n",
    "df_k"
   ]
  },
  {
   "cell_type": "code",
   "execution_count": null,
   "id": "9eecf87a39eeba1c",
   "metadata": {
    "collapsed": false,
    "jupyter": {
     "outputs_hidden": false
    }
   },
   "outputs": [],
   "source": [
    "# Vi kan joine:\n",
    "df_j = df_t.select(\n",
    "    pl.col(\"navn\"), pl.col(\"orgnummer\"), pl.col(\"tilsynid\")\n",
    "    ).join(\n",
    "    df_k.select(\n",
    "        pl.col(\"tilsynid\"), pl.col(\"ordningsverdi\"), pl.col(\"karakter\"), pl.col(\"kravpunktnavn_no\")\n",
    "    ), on=\"tilsynid\",how=\"left\")\n",
    "df_j"
   ]
  },
  {
   "cell_type": "code",
   "execution_count": null,
   "id": "2a41da691de135c1",
   "metadata": {
    "collapsed": false,
    "jupyter": {
     "outputs_hidden": false
    }
   },
   "outputs": [],
   "source": [
    "# Vi kan gruppere og aggregere\n",
    "df_j.group_by(\"tilsynid\", \"orgnummer\", \"navn\").agg(\n",
    "    (pl.col(\"karakter\") == 3).any().alias(\"noen_karakter_3\")\n",
    ")"
   ]
  },
  {
   "cell_type": "code",
   "execution_count": null,
   "id": "835163d90cf250be",
   "metadata": {
    "collapsed": false,
    "jupyter": {
     "outputs_hidden": false
    }
   },
   "outputs": [],
   "source": [
    "# Vi kan kombinere flere uttrykk\n",
    "# Vi kan gruppere og aggregere og deretter sortere\n",
    "df_j.group_by(\"tilsynid\", \"orgnummer\", \"navn\").agg(\n",
    "    (pl.col(\"karakter\") == 3).any().alias(\"noen_karakter_3\")\n",
    ").sort(\"noen_karakter_3\", descending=True)"
   ]
  },
  {
   "cell_type": "code",
   "execution_count": null,
   "id": "a26044f94a8b8c3",
   "metadata": {
    "collapsed": false,
    "jupyter": {
     "outputs_hidden": false
    }
   },
   "outputs": [],
   "source": [
    "# Vi bruker .lazy() for å lage en spørringsplan, og .collect() for å eksekvere spørringsplanen. \n",
    "# Vi bruker .scan_csv() for å bare lage en plan om å lese CSV.\n",
    "# Optimaliseringene gjør at vi kun leser inn de kolonnene som faktisk blir brukt!\n",
    "# Dette kalles en LazyFrame, ikke en DataFrame\n",
    "lf_t = pl.scan_csv(\"tilsyn.csv\", separator=\";\", dtypes={\"postnr\":str})\n",
    "df_t = lf_t.select(\"orgnummer\", \"navn\", \"dato\", \"total_karakter\", \"poststed\").with_columns(\n",
    "    pl.col(\"dato\").cast(str).str.pad_start(8, \"0\").str.to_date(format=\"%d%m%Y\")\n",
    ").filter(\n",
    "    pl.col(\"total_karakter\").is_in([2,3])\n",
    ").filter(\n",
    "    pl.col(\"dato\").dt.year() == 2018\n",
    ").filter(\n",
    "    pl.col(\"poststed\") == \"HORTEN\"\n",
    ").collect()\n",
    "df_t"
   ]
  },
  {
   "cell_type": "code",
   "execution_count": null,
   "id": "62045dabd88d5ce0",
   "metadata": {
    "collapsed": false,
    "jupyter": {
     "outputs_hidden": false
    }
   },
   "outputs": [],
   "source": []
  }
 ],
 "metadata": {
  "kernelspec": {
   "display_name": "Python 3 (ipykernel)",
   "language": "python",
   "name": "python3"
  },
  "language_info": {
   "codemirror_mode": {
    "name": "ipython",
    "version": 3
   },
   "file_extension": ".py",
   "mimetype": "text/x-python",
   "name": "python",
   "nbconvert_exporter": "python",
   "pygments_lexer": "ipython3",
   "version": "3.12.8"
  }
 },
 "nbformat": 4,
 "nbformat_minor": 5
}
